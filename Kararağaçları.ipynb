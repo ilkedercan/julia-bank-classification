{
 "cells": [
  {
   "cell_type": "code",
   "execution_count": 1,
   "id": "ae0fe77d",
   "metadata": {},
   "outputs": [
    {
     "name": "stderr",
     "output_type": "stream",
     "text": [
      "\u001b[33m\u001b[1m┌ \u001b[22m\u001b[39m\u001b[33m\u001b[1mWarning: \u001b[22m\u001b[39mcould not download https://pkg.julialang.org/registries\n",
      "\u001b[33m\u001b[1m│ \u001b[22m\u001b[39m  exception = RequestError: HTTP/2 301 (Cert verify failed: BADCERT_NOT_TRUSTED) while requesting https://pkg.julialang.org/registries\n",
      "\u001b[33m\u001b[1m└ \u001b[22m\u001b[39m\u001b[90m@ Pkg.Registry ~/julia-1.9.3/share/julia/stdlib/v1.9/Pkg/src/Registry/Registry.jl:69\u001b[39m\n",
      "\u001b[32m\u001b[1m   Resolving\u001b[22m\u001b[39m package versions...\n",
      "\u001b[32m\u001b[1m  No Changes\u001b[22m\u001b[39m to `~/Project.toml`\n",
      "\u001b[32m\u001b[1m  No Changes\u001b[22m\u001b[39m to `~/Manifest.toml`\n",
      "\u001b[32m\u001b[1m   Resolving\u001b[22m\u001b[39m package versions...\n",
      "\u001b[32m\u001b[1m  No Changes\u001b[22m\u001b[39m to `~/Project.toml`\n",
      "\u001b[32m\u001b[1m  No Changes\u001b[22m\u001b[39m to `~/Manifest.toml`\n",
      "\u001b[32m\u001b[1m   Resolving\u001b[22m\u001b[39m package versions...\n",
      "\u001b[32m\u001b[1m  No Changes\u001b[22m\u001b[39m to `~/Project.toml`\n",
      "\u001b[32m\u001b[1m  No Changes\u001b[22m\u001b[39m to `~/Manifest.toml`\n",
      "\u001b[32m\u001b[1m   Resolving\u001b[22m\u001b[39m package versions...\n",
      "\u001b[32m\u001b[1m  No Changes\u001b[22m\u001b[39m to `~/Project.toml`\n",
      "\u001b[32m\u001b[1m  No Changes\u001b[22m\u001b[39m to `~/Manifest.toml`\n",
      "\u001b[32m\u001b[1m   Resolving\u001b[22m\u001b[39m package versions...\n",
      "\u001b[32m\u001b[1m  No Changes\u001b[22m\u001b[39m to `~/Project.toml`\n",
      "\u001b[32m\u001b[1m  No Changes\u001b[22m\u001b[39m to `~/Manifest.toml`\n",
      "\u001b[32m\u001b[1m   Resolving\u001b[22m\u001b[39m package versions...\n",
      "\u001b[32m\u001b[1m  No Changes\u001b[22m\u001b[39m to `~/Project.toml`\n",
      "\u001b[32m\u001b[1m  No Changes\u001b[22m\u001b[39m to `~/Manifest.toml`\n",
      "\u001b[32m\u001b[1m   Resolving\u001b[22m\u001b[39m package versions...\n",
      "\u001b[32m\u001b[1m  No Changes\u001b[22m\u001b[39m to `~/Project.toml`\n",
      "\u001b[32m\u001b[1m  No Changes\u001b[22m\u001b[39m to `~/Manifest.toml`\n",
      "\u001b[32m\u001b[1m   Resolving\u001b[22m\u001b[39m package versions...\n",
      "\u001b[32m\u001b[1m  No Changes\u001b[22m\u001b[39m to `~/Project.toml`\n",
      "\u001b[32m\u001b[1m  No Changes\u001b[22m\u001b[39m to `~/Manifest.toml`\n",
      "\u001b[32m\u001b[1m   Resolving\u001b[22m\u001b[39m package versions...\n",
      "\u001b[32m\u001b[1m  No Changes\u001b[22m\u001b[39m to `~/Project.toml`\n",
      "\u001b[32m\u001b[1m  No Changes\u001b[22m\u001b[39m to `~/Manifest.toml`\n",
      "\u001b[32m\u001b[1m   Resolving\u001b[22m\u001b[39m package versions...\n",
      "\u001b[32m\u001b[1m  No Changes\u001b[22m\u001b[39m to `~/Project.toml`\n",
      "\u001b[32m\u001b[1m  No Changes\u001b[22m\u001b[39m to `~/Manifest.toml`\n"
     ]
    }
   ],
   "source": [
    "using Pkg\n",
    "Pkg.add(\"DataFrames\")\n",
    "Pkg.add(\"CSV\")\n",
    "Pkg.add(\"Statistics\")\n",
    "Pkg.add(\"MLDataUtils\")\n",
    "Pkg.add(\"Impute\")\n",
    "Pkg.add(\"Plots\")\n",
    "Pkg.add(\"Lathe\")\n",
    "Pkg.add(\"GLM\")\n",
    "Pkg.add(\"StatsPlots\")\n",
    "Pkg.add(\"MLBase\")\n",
    "\n",
    "using DataFrames\n",
    "using CSV\n",
    "using MLDataUtils\n",
    "using Impute\n",
    "using Plots\n",
    "using Lathe\n",
    "using GLM\n",
    "using Statistics\n",
    "using StatsPlots\n",
    "using MLBase"
   ]
  },
  {
   "cell_type": "markdown",
   "id": "40a96c1c",
   "metadata": {},
   "source": [
    "## Karar Ağaçları"
   ]
  },
  {
   "cell_type": "code",
   "execution_count": 49,
   "id": "134f56b7",
   "metadata": {},
   "outputs": [
    {
     "data": {
      "text/html": [
       "<table class=\"data-frame\"><thead><tr><th></th><th>age</th><th>job</th><th>marital</th><th>education</th><th>default</th><th>balance</th><th>housing</th><th>loan</th><th>contact</th><th>day</th></tr><tr><th></th><th>Int64</th><th>Int64</th><th>Int64</th><th>Int64</th><th>Int64</th><th>Int64</th><th>Int64</th><th>Int64</th><th>Int64</th><th>Int64</th></tr></thead><tbody><p>45,211 rows × 17 columns (omitted printing of 7 columns)</p><tr><th>1</th><td>58</td><td>1</td><td>1</td><td>1</td><td>1</td><td>2143</td><td>1</td><td>1</td><td>1</td><td>5</td></tr><tr><th>2</th><td>44</td><td>2</td><td>2</td><td>2</td><td>1</td><td>29</td><td>1</td><td>1</td><td>1</td><td>5</td></tr><tr><th>3</th><td>33</td><td>3</td><td>1</td><td>2</td><td>1</td><td>2</td><td>1</td><td>2</td><td>1</td><td>5</td></tr><tr><th>4</th><td>47</td><td>4</td><td>1</td><td>3</td><td>1</td><td>1506</td><td>1</td><td>1</td><td>1</td><td>5</td></tr><tr><th>5</th><td>33</td><td>5</td><td>2</td><td>3</td><td>1</td><td>1</td><td>2</td><td>1</td><td>1</td><td>5</td></tr><tr><th>6</th><td>35</td><td>1</td><td>1</td><td>1</td><td>1</td><td>231</td><td>1</td><td>1</td><td>1</td><td>5</td></tr><tr><th>7</th><td>28</td><td>1</td><td>2</td><td>1</td><td>1</td><td>447</td><td>1</td><td>2</td><td>1</td><td>5</td></tr><tr><th>8</th><td>42</td><td>3</td><td>3</td><td>1</td><td>2</td><td>2</td><td>1</td><td>1</td><td>1</td><td>5</td></tr><tr><th>9</th><td>58</td><td>6</td><td>1</td><td>4</td><td>1</td><td>121</td><td>1</td><td>1</td><td>1</td><td>5</td></tr><tr><th>10</th><td>43</td><td>2</td><td>2</td><td>2</td><td>1</td><td>593</td><td>1</td><td>1</td><td>1</td><td>5</td></tr><tr><th>11</th><td>41</td><td>7</td><td>3</td><td>2</td><td>1</td><td>270</td><td>1</td><td>1</td><td>1</td><td>5</td></tr><tr><th>12</th><td>29</td><td>7</td><td>2</td><td>2</td><td>1</td><td>390</td><td>1</td><td>1</td><td>1</td><td>5</td></tr><tr><th>13</th><td>53</td><td>2</td><td>1</td><td>2</td><td>1</td><td>6</td><td>1</td><td>1</td><td>1</td><td>5</td></tr><tr><th>14</th><td>58</td><td>2</td><td>1</td><td>3</td><td>1</td><td>71</td><td>1</td><td>1</td><td>1</td><td>5</td></tr><tr><th>15</th><td>57</td><td>8</td><td>1</td><td>2</td><td>1</td><td>162</td><td>1</td><td>1</td><td>1</td><td>5</td></tr><tr><th>16</th><td>51</td><td>6</td><td>1</td><td>4</td><td>1</td><td>229</td><td>1</td><td>1</td><td>1</td><td>5</td></tr><tr><th>17</th><td>45</td><td>7</td><td>2</td><td>3</td><td>1</td><td>13</td><td>1</td><td>1</td><td>1</td><td>5</td></tr><tr><th>18</th><td>57</td><td>4</td><td>1</td><td>4</td><td>1</td><td>52</td><td>1</td><td>1</td><td>1</td><td>5</td></tr><tr><th>19</th><td>60</td><td>6</td><td>1</td><td>4</td><td>1</td><td>60</td><td>1</td><td>1</td><td>1</td><td>5</td></tr><tr><th>20</th><td>33</td><td>8</td><td>1</td><td>2</td><td>1</td><td>0</td><td>1</td><td>1</td><td>1</td><td>5</td></tr><tr><th>21</th><td>28</td><td>4</td><td>1</td><td>2</td><td>1</td><td>723</td><td>1</td><td>2</td><td>1</td><td>5</td></tr><tr><th>22</th><td>56</td><td>1</td><td>1</td><td>1</td><td>1</td><td>779</td><td>1</td><td>1</td><td>1</td><td>5</td></tr><tr><th>23</th><td>32</td><td>4</td><td>2</td><td>4</td><td>1</td><td>23</td><td>1</td><td>2</td><td>1</td><td>5</td></tr><tr><th>24</th><td>25</td><td>8</td><td>1</td><td>2</td><td>1</td><td>50</td><td>1</td><td>1</td><td>1</td><td>5</td></tr><tr><th>25</th><td>40</td><td>6</td><td>1</td><td>4</td><td>1</td><td>0</td><td>1</td><td>2</td><td>1</td><td>5</td></tr><tr><th>26</th><td>44</td><td>7</td><td>1</td><td>2</td><td>1</td><td>-372</td><td>1</td><td>1</td><td>1</td><td>5</td></tr><tr><th>27</th><td>39</td><td>1</td><td>2</td><td>1</td><td>1</td><td>255</td><td>1</td><td>1</td><td>1</td><td>5</td></tr><tr><th>28</th><td>52</td><td>3</td><td>1</td><td>2</td><td>1</td><td>113</td><td>1</td><td>2</td><td>1</td><td>5</td></tr><tr><th>29</th><td>46</td><td>1</td><td>2</td><td>2</td><td>1</td><td>-246</td><td>1</td><td>1</td><td>1</td><td>5</td></tr><tr><th>30</th><td>36</td><td>2</td><td>2</td><td>2</td><td>1</td><td>265</td><td>1</td><td>2</td><td>1</td><td>5</td></tr><tr><th>&vellip;</th><td>&vellip;</td><td>&vellip;</td><td>&vellip;</td><td>&vellip;</td><td>&vellip;</td><td>&vellip;</td><td>&vellip;</td><td>&vellip;</td><td>&vellip;</td><td>&vellip;</td></tr></tbody></table>"
      ],
      "text/latex": [
       "\\begin{tabular}{r|ccccccccccc}\n",
       "\t& age & job & marital & education & default & balance & housing & loan & contact & day & \\\\\n",
       "\t\\hline\n",
       "\t& Int64 & Int64 & Int64 & Int64 & Int64 & Int64 & Int64 & Int64 & Int64 & Int64 & \\\\\n",
       "\t\\hline\n",
       "\t1 & 58 & 1 & 1 & 1 & 1 & 2143 & 1 & 1 & 1 & 5 & $\\dots$ \\\\\n",
       "\t2 & 44 & 2 & 2 & 2 & 1 & 29 & 1 & 1 & 1 & 5 & $\\dots$ \\\\\n",
       "\t3 & 33 & 3 & 1 & 2 & 1 & 2 & 1 & 2 & 1 & 5 & $\\dots$ \\\\\n",
       "\t4 & 47 & 4 & 1 & 3 & 1 & 1506 & 1 & 1 & 1 & 5 & $\\dots$ \\\\\n",
       "\t5 & 33 & 5 & 2 & 3 & 1 & 1 & 2 & 1 & 1 & 5 & $\\dots$ \\\\\n",
       "\t6 & 35 & 1 & 1 & 1 & 1 & 231 & 1 & 1 & 1 & 5 & $\\dots$ \\\\\n",
       "\t7 & 28 & 1 & 2 & 1 & 1 & 447 & 1 & 2 & 1 & 5 & $\\dots$ \\\\\n",
       "\t8 & 42 & 3 & 3 & 1 & 2 & 2 & 1 & 1 & 1 & 5 & $\\dots$ \\\\\n",
       "\t9 & 58 & 6 & 1 & 4 & 1 & 121 & 1 & 1 & 1 & 5 & $\\dots$ \\\\\n",
       "\t10 & 43 & 2 & 2 & 2 & 1 & 593 & 1 & 1 & 1 & 5 & $\\dots$ \\\\\n",
       "\t11 & 41 & 7 & 3 & 2 & 1 & 270 & 1 & 1 & 1 & 5 & $\\dots$ \\\\\n",
       "\t12 & 29 & 7 & 2 & 2 & 1 & 390 & 1 & 1 & 1 & 5 & $\\dots$ \\\\\n",
       "\t13 & 53 & 2 & 1 & 2 & 1 & 6 & 1 & 1 & 1 & 5 & $\\dots$ \\\\\n",
       "\t14 & 58 & 2 & 1 & 3 & 1 & 71 & 1 & 1 & 1 & 5 & $\\dots$ \\\\\n",
       "\t15 & 57 & 8 & 1 & 2 & 1 & 162 & 1 & 1 & 1 & 5 & $\\dots$ \\\\\n",
       "\t16 & 51 & 6 & 1 & 4 & 1 & 229 & 1 & 1 & 1 & 5 & $\\dots$ \\\\\n",
       "\t17 & 45 & 7 & 2 & 3 & 1 & 13 & 1 & 1 & 1 & 5 & $\\dots$ \\\\\n",
       "\t18 & 57 & 4 & 1 & 4 & 1 & 52 & 1 & 1 & 1 & 5 & $\\dots$ \\\\\n",
       "\t19 & 60 & 6 & 1 & 4 & 1 & 60 & 1 & 1 & 1 & 5 & $\\dots$ \\\\\n",
       "\t20 & 33 & 8 & 1 & 2 & 1 & 0 & 1 & 1 & 1 & 5 & $\\dots$ \\\\\n",
       "\t21 & 28 & 4 & 1 & 2 & 1 & 723 & 1 & 2 & 1 & 5 & $\\dots$ \\\\\n",
       "\t22 & 56 & 1 & 1 & 1 & 1 & 779 & 1 & 1 & 1 & 5 & $\\dots$ \\\\\n",
       "\t23 & 32 & 4 & 2 & 4 & 1 & 23 & 1 & 2 & 1 & 5 & $\\dots$ \\\\\n",
       "\t24 & 25 & 8 & 1 & 2 & 1 & 50 & 1 & 1 & 1 & 5 & $\\dots$ \\\\\n",
       "\t25 & 40 & 6 & 1 & 4 & 1 & 0 & 1 & 2 & 1 & 5 & $\\dots$ \\\\\n",
       "\t26 & 44 & 7 & 1 & 2 & 1 & -372 & 1 & 1 & 1 & 5 & $\\dots$ \\\\\n",
       "\t27 & 39 & 1 & 2 & 1 & 1 & 255 & 1 & 1 & 1 & 5 & $\\dots$ \\\\\n",
       "\t28 & 52 & 3 & 1 & 2 & 1 & 113 & 1 & 2 & 1 & 5 & $\\dots$ \\\\\n",
       "\t29 & 46 & 1 & 2 & 2 & 1 & -246 & 1 & 1 & 1 & 5 & $\\dots$ \\\\\n",
       "\t30 & 36 & 2 & 2 & 2 & 1 & 265 & 1 & 2 & 1 & 5 & $\\dots$ \\\\\n",
       "\t$\\dots$ & $\\dots$ & $\\dots$ & $\\dots$ & $\\dots$ & $\\dots$ & $\\dots$ & $\\dots$ & $\\dots$ & $\\dots$ & $\\dots$ &  \\\\\n",
       "\\end{tabular}\n"
      ],
      "text/plain": [
       "\u001b[1m45211×17 DataFrame\u001b[0m\n",
       "\u001b[1m   Row \u001b[0m│\u001b[1m age   \u001b[0m\u001b[1m job   \u001b[0m\u001b[1m marital \u001b[0m\u001b[1m education \u001b[0m\u001b[1m default \u001b[0m\u001b[1m balance \u001b[0m\u001b[1m housing \u001b[0m\u001b[1m loan  \u001b[0m\u001b[1m c\u001b[0m ⋯\n",
       "\u001b[1m       \u001b[0m│\u001b[90m Int64 \u001b[0m\u001b[90m Int64 \u001b[0m\u001b[90m Int64   \u001b[0m\u001b[90m Int64     \u001b[0m\u001b[90m Int64   \u001b[0m\u001b[90m Int64   \u001b[0m\u001b[90m Int64   \u001b[0m\u001b[90m Int64 \u001b[0m\u001b[90m I\u001b[0m ⋯\n",
       "───────┼────────────────────────────────────────────────────────────────────────\n",
       "     1 │    58      1        1          1        1     2143        1      1  1 ⋯\n",
       "     2 │    44      2        2          2        1       29        1      1  1\n",
       "     3 │    33      3        1          2        1        2        1      2  1\n",
       "     4 │    47      4        1          3        1     1506        1      1  1\n",
       "     5 │    33      5        2          3        1        1        2      1  1 ⋯\n",
       "     6 │    35      1        1          1        1      231        1      1  1\n",
       "     7 │    28      1        2          1        1      447        1      2  1\n",
       "     8 │    42      3        3          1        2        2        1      1  1\n",
       "     9 │    58      6        1          4        1      121        1      1  1 ⋯\n",
       "    10 │    43      2        2          2        1      593        1      1  1\n",
       "    11 │    41      7        3          2        1      270        1      1  1\n",
       "   ⋮   │   ⋮      ⋮       ⋮         ⋮         ⋮        ⋮        ⋮       ⋮      ⋱\n",
       " 45202 │    53      1        1          1        1      583        2      1  2\n",
       " 45203 │    34      7        2          2        1      557        2      1  2 ⋯\n",
       " 45204 │    23     12        2          1        1      113        2      1  2\n",
       " 45205 │    73      6        1          2        1     2850        2      1  2\n",
       " 45206 │    25      2        2          2        1      505        2      2  2\n",
       " 45207 │    51      2        1          1        1      825        2      1  2 ⋯\n",
       " 45208 │    71      6        3          4        1     1729        2      1  2\n",
       " 45209 │    72      6        1          2        1     5715        2      1  2\n",
       " 45210 │    57      4        1          2        1      668        2      1  3\n",
       " 45211 │    37      3        1          2        1     2971        2      1  2 ⋯\n",
       "\u001b[36m                                                9 columns and 45190 rows omitted\u001b[0m"
      ]
     },
     "execution_count": 49,
     "metadata": {},
     "output_type": "execute_result"
    }
   ],
   "source": [
    "df= CSV.read(\"/home/ilke/Downloads/processed_data.csv\", DataFrame)"
   ]
  },
  {
   "cell_type": "code",
   "execution_count": 50,
   "id": "f083b1de",
   "metadata": {},
   "outputs": [
    {
     "data": {
      "text/plain": [
       "(\u001b[1m27023×18 DataFrame\u001b[0m\n",
       "\u001b[1m   Row \u001b[0m│\u001b[1m age   \u001b[0m\u001b[1m job   \u001b[0m\u001b[1m marital \u001b[0m\u001b[1m education \u001b[0m\u001b[1m default \u001b[0m\u001b[1m balance \u001b[0m\u001b[1m housing \u001b[0m\u001b[1m loan  \u001b[0m\u001b[1m c\u001b[0m ⋯\n",
       "\u001b[1m       \u001b[0m│\u001b[90m Int64 \u001b[0m\u001b[90m Int64 \u001b[0m\u001b[90m Int64   \u001b[0m\u001b[90m Int64     \u001b[0m\u001b[90m Int64   \u001b[0m\u001b[90m Int64   \u001b[0m\u001b[90m Int64   \u001b[0m\u001b[90m Int64 \u001b[0m\u001b[90m I\u001b[0m ⋯\n",
       "───────┼────────────────────────────────────────────────────────────────────────\n",
       "     1 │    44      2        2          2        1       29        1      1  1 ⋯\n",
       "     2 │    33      3        1          2        1        2        1      2  1\n",
       "     3 │    33      5        2          3        1        1        2      1  1\n",
       "     4 │    28      1        2          1        1      447        1      2  1\n",
       "     5 │    42      3        3          1        2        2        1      1  1 ⋯\n",
       "     6 │    43      2        2          2        1      593        1      1  1\n",
       "     7 │    29      7        2          2        1      390        1      1  1\n",
       "     8 │    58      2        1          3        1       71        1      1  1\n",
       "     9 │    51      6        1          4        1      229        1      1  1 ⋯\n",
       "    10 │    45      7        2          3        1       13        1      1  1\n",
       "    11 │    60      6        1          4        1       60        1      1  1\n",
       "   ⋮   │   ⋮      ⋮       ⋮         ⋮         ⋮        ⋮        ⋮       ⋮      ⋱\n",
       " 27014 │    59      1        1          1        1      138        1      2  2\n",
       " 27015 │    68      6        1          2        1     1146        2      1  2 ⋯\n",
       " 27016 │    36      1        2          2        1     1511        1      1  2\n",
       " 27017 │    37      1        1          1        1     1428        2      1  2\n",
       " 27018 │    34      4        2          2        1     1475        1      1  2\n",
       " 27019 │    38      2        1          2        1      557        1      1  2 ⋯\n",
       " 27020 │    53      1        1          1        1      583        2      1  2\n",
       " 27021 │    23     12        2          1        1      113        2      1  2\n",
       " 27022 │    71      6        3          4        1     1729        2      1  2\n",
       " 27023 │    37      3        1          2        1     2971        2      1  2 ⋯\n",
       "\u001b[36m                                               10 columns and 27002 rows omitted\u001b[0m, \u001b[1m18188×18 DataFrame\u001b[0m\n",
       "\u001b[1m   Row \u001b[0m│\u001b[1m age   \u001b[0m\u001b[1m job   \u001b[0m\u001b[1m marital \u001b[0m\u001b[1m education \u001b[0m\u001b[1m default \u001b[0m\u001b[1m balance \u001b[0m\u001b[1m housing \u001b[0m\u001b[1m loan  \u001b[0m\u001b[1m c\u001b[0m ⋯\n",
       "\u001b[1m       \u001b[0m│\u001b[90m Int64 \u001b[0m\u001b[90m Int64 \u001b[0m\u001b[90m Int64   \u001b[0m\u001b[90m Int64     \u001b[0m\u001b[90m Int64   \u001b[0m\u001b[90m Int64   \u001b[0m\u001b[90m Int64   \u001b[0m\u001b[90m Int64 \u001b[0m\u001b[90m I\u001b[0m ⋯\n",
       "───────┼────────────────────────────────────────────────────────────────────────\n",
       "     1 │    58      1        1          1        1     2143        1      1  1 ⋯\n",
       "     2 │    47      4        1          3        1     1506        1      1  1\n",
       "     3 │    35      1        1          1        1      231        1      1  1\n",
       "     4 │    58      6        1          4        1      121        1      1  1\n",
       "     5 │    41      7        3          2        1      270        1      1  1 ⋯\n",
       "     6 │    53      2        1          2        1        6        1      1  1\n",
       "     7 │    57      8        1          2        1      162        1      1  1\n",
       "     8 │    57      4        1          4        1       52        1      1  1\n",
       "     9 │    33      8        1          2        1        0        1      1  1 ⋯\n",
       "    10 │    28      4        1          2        1      723        1      2  1\n",
       "    11 │    25      8        1          2        1       50        1      1  1\n",
       "   ⋮   │   ⋮      ⋮       ⋮         ⋮         ⋮        ⋮        ⋮       ⋮      ⋱\n",
       " 18179 │    29      1        2          2        1      703        1      1  2\n",
       " 18180 │    25      8        2          2        1      199        2      1  2 ⋯\n",
       " 18181 │    32      4        1          2        1      136        2      1  2\n",
       " 18182 │    25     12        2          2        1      358        2      1  2\n",
       " 18183 │    34      7        2          2        1      557        2      1  2\n",
       " 18184 │    73      6        1          2        1     2850        2      1  2 ⋯\n",
       " 18185 │    25      2        2          2        1      505        2      2  2\n",
       " 18186 │    51      2        1          1        1      825        2      1  2\n",
       " 18187 │    72      6        1          2        1     5715        2      1  2\n",
       " 18188 │    57      4        1          2        1      668        2      1  3 ⋯\n",
       "\u001b[36m                                               10 columns and 18167 rows omitted\u001b[0m)"
      ]
     },
     "execution_count": 50,
     "metadata": {},
     "output_type": "execute_result"
    }
   ],
   "source": [
    "df.y_string = ifelse.(df.y .== 1, \"yes\", \"no\")\n",
    "using Lathe.preprocess: TrainTestSplit\n",
    "train,test=TrainTestSplit(df,.60)"
   ]
  },
  {
   "cell_type": "code",
   "execution_count": 44,
   "id": "b7e4fd00",
   "metadata": {},
   "outputs": [
    {
     "name": "stderr",
     "output_type": "stream",
     "text": [
      "\u001b[32m\u001b[1m   Resolving\u001b[22m\u001b[39m package versions...\n",
      "\u001b[32m\u001b[1m  No Changes\u001b[22m\u001b[39m to `~/Project.toml`\n",
      "\u001b[32m\u001b[1m  No Changes\u001b[22m\u001b[39m to `~/Manifest.toml`\n"
     ]
    }
   ],
   "source": [
    "Pkg.add(\"DecisionTree\")\n",
    "using DecisionTree"
   ]
  },
  {
   "cell_type": "code",
   "execution_count": 51,
   "id": "b047b895",
   "metadata": {},
   "outputs": [
    {
     "data": {
      "text/plain": [
       "27023-element Vector{String}:\n",
       " \"yes\"\n",
       " \"yes\"\n",
       " \"yes\"\n",
       " \"yes\"\n",
       " \"yes\"\n",
       " \"yes\"\n",
       " \"yes\"\n",
       " \"yes\"\n",
       " \"yes\"\n",
       " \"yes\"\n",
       " \"yes\"\n",
       " \"yes\"\n",
       " \"yes\"\n",
       " ⋮\n",
       " \"no\"\n",
       " \"no\"\n",
       " \"yes\"\n",
       " \"no\"\n",
       " \"no\"\n",
       " \"yes\"\n",
       " \"yes\"\n",
       " \"no\"\n",
       " \"no\"\n",
       " \"no\"\n",
       " \"no\"\n",
       " \"yes\""
      ]
     },
     "execution_count": 51,
     "metadata": {},
     "output_type": "execute_result"
    }
   ],
   "source": [
    "#feature selection (Train)\n",
    "features = Array(train[:,[:age, :job, :marital, :education, :default, :balance, :housing, :loan, :contact, :day, :month, :duration, :campaign, :pdays, :poutcome, :previous]])\n",
    "labels = Array(train[:,:y_string])\n",
    "features = float.(features)\n",
    "labels = string.(labels)"
   ]
  },
  {
   "cell_type": "code",
   "execution_count": 52,
   "id": "0cce91c9",
   "metadata": {},
   "outputs": [
    {
     "data": {
      "text/plain": [
       "18188-element Vector{String}:\n",
       " \"yes\"\n",
       " \"yes\"\n",
       " \"yes\"\n",
       " \"yes\"\n",
       " \"yes\"\n",
       " \"yes\"\n",
       " \"yes\"\n",
       " \"yes\"\n",
       " \"yes\"\n",
       " \"yes\"\n",
       " \"yes\"\n",
       " \"yes\"\n",
       " \"yes\"\n",
       " ⋮\n",
       " \"yes\"\n",
       " \"no\"\n",
       " \"no\"\n",
       " \"yes\"\n",
       " \"no\"\n",
       " \"no\"\n",
       " \"no\"\n",
       " \"no\"\n",
       " \"no\"\n",
       " \"no\"\n",
       " \"no\"\n",
       " \"yes\""
      ]
     },
     "execution_count": 52,
     "metadata": {},
     "output_type": "execute_result"
    }
   ],
   "source": [
    "# feature_selection (Test)\n",
    "\n",
    "features_test = Array(test[:,[:age, :job, :marital, :education, :default, :balance, :housing, :loan, :contact, :day, :month, :duration, :campaign, :pdays, :poutcome, :previous]])\n",
    "labels_test = Array(test[:,:y_string])\n",
    "features_test = float.(features_test)\n",
    "labels_test = string.(labels_test)"
   ]
  },
  {
   "cell_type": "markdown",
   "id": "869e7df6",
   "metadata": {},
   "source": [
    "    Leaves (Yapraklar): Bu, karar ağacının sona erdiği veya veri noktalarının sınıflandırıldığı noktalardır. Bu durumda, 2048 yaprak olduğunu belirtiyor. Yaprak sayısı, ağacın kaç farklı sınıfa ayırabildiğini ve genel modelin karmaşıklığını gösterir.\n",
    "\n",
    "    Depth (Derinlik): Bu, karar ağacının dallarının en derin noktasının kaç seviye aşağıya indiğini gösterir. Bu durumda, ağacın en derin dalının 34 seviye aşağıya indiğini belirtiyor. Derinlik, modelin öğrenme kapasitesini ve veriye uyma yeteneğini gösterir. Daha derin bir ağaç, veriye daha fazla uyarlanabilir, ancak aşırı uydurmalara neden olabilir."
   ]
  },
  {
   "cell_type": "code",
   "execution_count": 53,
   "id": "0602e51f",
   "metadata": {},
   "outputs": [
    {
     "data": {
      "text/plain": [
       "Decision Tree\n",
       "Leaves: 2049\n",
       "Depth:  34"
      ]
     },
     "execution_count": 53,
     "metadata": {},
     "output_type": "execute_result"
    }
   ],
   "source": [
    "model = build_tree(labels, features)"
   ]
  },
  {
   "cell_type": "code",
   "execution_count": 54,
   "id": "45290997",
   "metadata": {},
   "outputs": [
    {
     "name": "stdout",
     "output_type": "stream",
     "text": [
      "Feature 12 < 448.5 ?\n",
      "├─ Feature 15 < 3.5 ?\n",
      "    ├─ Feature 11 < 4.5 ?\n",
      "        ├─ Feature 12 < 155.5 ?\n",
      "            ├─ \n",
      "            └─ \n",
      "        └─ Feature 12 < 124.5 ?\n",
      "            ├─ \n",
      "            └─ \n",
      "    └─ Feature 12 < 132.5 ?\n",
      "        ├─ Feature 12 < 80.0 ?\n",
      "            ├─ \n",
      "            └─ \n",
      "        └─ Feature 11 < 1.5 ?\n",
      "            ├─ \n",
      "            └─ \n",
      "└─ Feature 12 < 647.5 ?\n",
      "    ├─ Feature 15 < 3.5 ?\n",
      "        ├─ Feature 9 < 1.5 ?\n",
      "            ├─ \n",
      "            └─ \n",
      "        └─ Feature 11 < 2.5 ?\n",
      "            ├─ \n",
      "            └─ \n",
      "    └─ Feature 15 < 3.5 ?\n",
      "        ├─ Feature 12 < 836.5 ?\n",
      "            ├─ \n",
      "            └─ \n",
      "        └─ Feature 2 < 1.5 ?\n",
      "            ├─ no : 20/20\n",
      "            └─ \n"
     ]
    }
   ],
   "source": [
    "print_tree(model, 4)"
   ]
  },
  {
   "cell_type": "code",
   "execution_count": 55,
   "id": "32cd4ccb",
   "metadata": {},
   "outputs": [
    {
     "data": {
      "text/plain": [
       "18188-element Vector{String}:\n",
       " \"yes\"\n",
       " \"yes\"\n",
       " \"yes\"\n",
       " \"yes\"\n",
       " \"yes\"\n",
       " \"yes\"\n",
       " \"yes\"\n",
       " \"yes\"\n",
       " \"yes\"\n",
       " \"yes\"\n",
       " \"yes\"\n",
       " \"yes\"\n",
       " \"yes\"\n",
       " ⋮\n",
       " \"yes\"\n",
       " \"no\"\n",
       " \"no\"\n",
       " \"no\"\n",
       " \"yes\"\n",
       " \"no\"\n",
       " \"yes\"\n",
       " \"yes\"\n",
       " \"yes\"\n",
       " \"yes\"\n",
       " \"no\"\n",
       " \"yes\""
      ]
     },
     "execution_count": 55,
     "metadata": {},
     "output_type": "execute_result"
    }
   ],
   "source": [
    "# Test verisi üzerinde çalıştıralım.\n",
    "predictions = apply_tree(model, features_test)"
   ]
  },
  {
   "cell_type": "code",
   "execution_count": 56,
   "id": "b30582ae",
   "metadata": {},
   "outputs": [
    {
     "name": "stdout",
     "output_type": "stream",
     "text": [
      "\n",
      "Fold 1\n",
      "Classes:  [\"no\", \"yes\"]\n",
      "Matrix:   "
     ]
    },
    {
     "data": {
      "text/plain": [
       "2×2 Matrix{Int64}:\n",
       "  82   106\n",
       " 112  1518"
      ]
     },
     "metadata": {},
     "output_type": "display_data"
    },
    {
     "name": "stdout",
     "output_type": "stream",
     "text": [
      "\n",
      "Accuracy: 0.8800880088008801\n",
      "Kappa:    0.3623433708964304\n",
      "\n",
      "Fold 2\n",
      "Classes:  [\"no\", \"yes\"]\n",
      "Matrix:   "
     ]
    },
    {
     "data": {
      "text/plain": [
       "2×2 Matrix{Int64}:\n",
       " 109   113\n",
       " 119  1477"
      ]
     },
     "metadata": {},
     "output_type": "display_data"
    },
    {
     "name": "stdout",
     "output_type": "stream",
     "text": [
      "\n",
      "Accuracy: 0.8723872387238724\n",
      "Kappa:    0.411640636769949\n",
      "\n",
      "Fold 3\n",
      "Classes:  [\"no\", \"yes\"]\n",
      "Matrix:   "
     ]
    },
    {
     "data": {
      "text/plain": [
       "2×2 Matrix{Int64}:\n",
       " 117   103\n",
       " 112  1486"
      ]
     },
     "metadata": {},
     "output_type": "display_data"
    },
    {
     "name": "stdout",
     "output_type": "stream",
     "text": [
      "\n",
      "Accuracy: 0.8817381738173817\n",
      "Kappa:    0.45372748846296834\n",
      "\n",
      "Fold 4\n",
      "Classes:  [\"no\", \"yes\"]\n",
      "Matrix:   "
     ]
    },
    {
     "data": {
      "text/plain": [
       "2×2 Matrix{Int64}:\n",
       "  98   106\n",
       " 102  1512"
      ]
     },
     "metadata": {},
     "output_type": "display_data"
    },
    {
     "name": "stdout",
     "output_type": "stream",
     "text": [
      "\n",
      "Accuracy: 0.8855885588558856\n",
      "Kappa:    0.42079917656140875\n",
      "\n",
      "Fold 5\n",
      "Classes:  [\"no\", \"yes\"]\n",
      "Matrix:   "
     ]
    },
    {
     "data": {
      "text/plain": [
       "2×2 Matrix{Int64}:\n",
       "  99   118\n",
       " 136  1465"
      ]
     },
     "metadata": {},
     "output_type": "display_data"
    },
    {
     "name": "stdout",
     "output_type": "stream",
     "text": [
      "\n",
      "Accuracy: 0.8602860286028603\n",
      "Kappa:    0.3584236661266615\n",
      "\n",
      "Fold 6\n",
      "Classes:  [\"no\", \"yes\"]\n",
      "Matrix:   "
     ]
    },
    {
     "data": {
      "text/plain": [
       "2×2 Matrix{Int64}:\n",
       "  95    96\n",
       " 114  1513"
      ]
     },
     "metadata": {},
     "output_type": "display_data"
    },
    {
     "name": "stdout",
     "output_type": "stream",
     "text": [
      "\n",
      "Accuracy: 0.8844884488448845\n",
      "Kappa:    0.4102526870591726\n",
      "\n",
      "Fold 7\n",
      "Classes:  [\"no\", \"yes\"]\n",
      "Matrix:   "
     ]
    },
    {
     "data": {
      "text/plain": [
       "2×2 Matrix{Int64}:\n",
       "  97   121\n",
       " 133  1467"
      ]
     },
     "metadata": {},
     "output_type": "display_data"
    },
    {
     "name": "stdout",
     "output_type": "stream",
     "text": [
      "\n",
      "Accuracy: 0.8602860286028603\n",
      "Kappa:    0.35342712802303056\n",
      "\n",
      "Fold 8\n",
      "Classes:  [\"no\", \"yes\"]\n",
      "Matrix:   "
     ]
    },
    {
     "data": {
      "text/plain": [
       "2×2 Matrix{Int64}:\n",
       " 101   110\n",
       " 127  1480"
      ]
     },
     "metadata": {},
     "output_type": "display_data"
    },
    {
     "name": "stdout",
     "output_type": "stream",
     "text": [
      "\n",
      "Accuracy: 0.8696369636963697\n",
      "Kappa:    0.386131081115737\n",
      "\n",
      "Fold 9\n",
      "Classes:  [\"no\", \"yes\"]\n",
      "Matrix:   "
     ]
    },
    {
     "data": {
      "text/plain": [
       "2×2 Matrix{Int64}:\n",
       " 107   121\n",
       " 116  1474"
      ]
     },
     "metadata": {},
     "output_type": "display_data"
    },
    {
     "name": "stdout",
     "output_type": "stream",
     "text": [
      "\n",
      "Accuracy: 0.8696369636963697\n",
      "Kappa:    0.4001002464391631\n",
      "\n",
      "Fold 10\n",
      "Classes:  [\"no\", \"yes\"]\n",
      "Matrix:   "
     ]
    },
    {
     "data": {
      "text/plain": [
       "2×2 Matrix{Int64}:\n",
       " 108   103\n",
       " 120  1487"
      ]
     },
     "metadata": {},
     "output_type": "display_data"
    },
    {
     "name": "stdout",
     "output_type": "stream",
     "text": [
      "\n",
      "Accuracy: 0.8773377337733773\n",
      "Kappa:    0.4223933801215582\n",
      "\n",
      "Mean Accuracy: 0.8741474147414742\n"
     ]
    },
    {
     "data": {
      "text/plain": [
       "10-element Vector{Float64}:\n",
       " 0.8800880088008801\n",
       " 0.8723872387238724\n",
       " 0.8817381738173817\n",
       " 0.8855885588558856\n",
       " 0.8602860286028603\n",
       " 0.8844884488448845\n",
       " 0.8602860286028603\n",
       " 0.8696369636963697\n",
       " 0.8696369636963697\n",
       " 0.8773377337733773"
      ]
     },
     "execution_count": 56,
     "metadata": {},
     "output_type": "execute_result"
    }
   ],
   "source": [
    "n_folds=10\n",
    "accuracy_score = nfoldCV_tree(labels_test, features_test, n_folds)"
   ]
  },
  {
   "cell_type": "code",
   "execution_count": 57,
   "id": "2b6d986a",
   "metadata": {},
   "outputs": [
    {
     "data": {
      "text/plain": [
       "Decision Tree\n",
       "Leaves: 1228\n",
       "Depth:  33"
      ]
     },
     "execution_count": 57,
     "metadata": {},
     "output_type": "execute_result"
    }
   ],
   "source": [
    "modelp = prune_tree(model, 0.6)"
   ]
  },
  {
   "cell_type": "code",
   "execution_count": 58,
   "id": "8685d91c",
   "metadata": {},
   "outputs": [
    {
     "name": "stdout",
     "output_type": "stream",
     "text": [
      "\n",
      "Fold 1\n",
      "Classes:  [\"no\", \"yes\"]\n",
      "Matrix:   "
     ]
    },
    {
     "data": {
      "text/plain": [
       "2×2 Matrix{Int64}:\n",
       " 114    93\n",
       "  92  1519"
      ]
     },
     "metadata": {},
     "output_type": "display_data"
    },
    {
     "name": "stdout",
     "output_type": "stream",
     "text": [
      "\n",
      "Accuracy: 0.8982398239823982\n",
      "Kappa:    0.4946585530764028\n",
      "\n",
      "Fold 2\n",
      "Classes:  [\"no\", \"yes\"]\n",
      "Matrix:   "
     ]
    },
    {
     "data": {
      "text/plain": [
       "2×2 Matrix{Int64}:\n",
       " 105    88\n",
       "  83  1542"
      ]
     },
     "metadata": {},
     "output_type": "display_data"
    },
    {
     "name": "stdout",
     "output_type": "stream",
     "text": [
      "\n",
      "Accuracy: 0.905940594059406\n",
      "Kappa:    0.498656646615814\n",
      "\n",
      "Fold 3\n",
      "Classes:  [\"no\", \"yes\"]\n",
      "Matrix:   "
     ]
    },
    {
     "data": {
      "text/plain": [
       "2×2 Matrix{Int64}:\n",
       " 120    77\n",
       "  99  1522"
      ]
     },
     "metadata": {},
     "output_type": "display_data"
    },
    {
     "name": "stdout",
     "output_type": "stream",
     "text": [
      "\n",
      "Accuracy: 0.9031903190319032\n",
      "Kappa:    0.5224372464559808\n",
      "\n",
      "Fold 4\n",
      "Classes:  [\"no\", \"yes\"]\n",
      "Matrix:   "
     ]
    },
    {
     "data": {
      "text/plain": [
       "2×2 Matrix{Int64}:\n",
       " 140    75\n",
       "  89  1514"
      ]
     },
     "metadata": {},
     "output_type": "display_data"
    },
    {
     "name": "stdout",
     "output_type": "stream",
     "text": [
      "\n",
      "Accuracy: 0.9097909790979097\n",
      "Kappa:    0.5793103642895238\n",
      "\n",
      "Fold 5\n",
      "Classes:  [\"no\", \"yes\"]\n",
      "Matrix:   "
     ]
    },
    {
     "data": {
      "text/plain": [
       "2×2 Matrix{Int64}:\n",
       " 131    81\n",
       "  76  1530"
      ]
     },
     "metadata": {},
     "output_type": "display_data"
    },
    {
     "name": "stdout",
     "output_type": "stream",
     "text": [
      "\n",
      "Accuracy: 0.9136413641364136\n",
      "Kappa:    0.5765029511524181\n",
      "\n",
      "Fold 6\n",
      "Classes:  [\"no\", \"yes\"]\n",
      "Matrix:   "
     ]
    },
    {
     "data": {
      "text/plain": [
       "2×2 Matrix{Int64}:\n",
       " 102    97\n",
       " 101  1518"
      ]
     },
     "metadata": {},
     "output_type": "display_data"
    },
    {
     "name": "stdout",
     "output_type": "stream",
     "text": [
      "\n",
      "Accuracy: 0.8910891089108911\n",
      "Kappa:    0.4462450118607721\n",
      "\n",
      "Fold 7\n",
      "Classes:  [\"no\", \"yes\"]\n",
      "Matrix:   "
     ]
    },
    {
     "data": {
      "text/plain": [
       "2×2 Matrix{Int64}:\n",
       " 121    86\n",
       "  85  1526"
      ]
     },
     "metadata": {},
     "output_type": "display_data"
    },
    {
     "name": "stdout",
     "output_type": "stream",
     "text": [
      "\n",
      "Accuracy: 0.905940594059406\n",
      "Kappa:    0.5329006085192699\n",
      "\n",
      "Fold 8\n",
      "Classes:  [\"no\", \"yes\"]\n",
      "Matrix:   "
     ]
    },
    {
     "data": {
      "text/plain": [
       "2×2 Matrix{Int64}:\n",
       " 130    93\n",
       "  89  1506"
      ]
     },
     "metadata": {},
     "output_type": "display_data"
    },
    {
     "name": "stdout",
     "output_type": "stream",
     "text": [
      "\n",
      "Accuracy: 0.8998899889988999\n",
      "Kappa:    0.5312587656293829\n",
      "\n",
      "Fold 9\n",
      "Classes:  [\"no\", \"yes\"]\n",
      "Matrix:   "
     ]
    },
    {
     "data": {
      "text/plain": [
       "2×2 Matrix{Int64}:\n",
       " 122    82\n",
       "  84  1530"
      ]
     },
     "metadata": {},
     "output_type": "display_data"
    },
    {
     "name": "stdout",
     "output_type": "stream",
     "text": [
      "\n",
      "Accuracy: 0.9086908690869087\n",
      "Kappa:    0.5436664186822955\n",
      "\n",
      "Fold 10\n",
      "Classes:  [\"no\", \"yes\"]\n",
      "Matrix:   "
     ]
    },
    {
     "data": {
      "text/plain": [
       "2×2 Matrix{Int64}:\n",
       " 107    86\n",
       "  92  1533"
      ]
     },
     "metadata": {},
     "output_type": "display_data"
    },
    {
     "name": "stdout",
     "output_type": "stream",
     "text": [
      "\n",
      "Accuracy: 0.9020902090209021\n",
      "Kappa:    0.49106224502313467\n",
      "\n",
      "Mean Accuracy: 0.9038503850385038\n"
     ]
    },
    {
     "data": {
      "text/plain": [
       "10-element Vector{Float64}:\n",
       " 0.8982398239823982\n",
       " 0.905940594059406\n",
       " 0.9031903190319032\n",
       " 0.9097909790979097\n",
       " 0.9136413641364136\n",
       " 0.8910891089108911\n",
       " 0.905940594059406\n",
       " 0.8998899889988999\n",
       " 0.9086908690869087\n",
       " 0.9020902090209021"
      ]
     },
     "execution_count": 58,
     "metadata": {},
     "output_type": "execute_result"
    }
   ],
   "source": [
    "preds1=apply_tree(modelp,features_test)\n",
    "# run 3-fold cross validation of pruned tree,\n",
    "n_folds=10\n",
    "accuracy1 = nfoldCV_tree(preds1, features_test, n_folds)"
   ]
  },
  {
   "cell_type": "code",
   "execution_count": 33,
   "id": "0bf87cf3",
   "metadata": {},
   "outputs": [
    {
     "data": {
      "text/plain": [
       "F1score (generic function with 1 method)"
      ]
     },
     "execution_count": 33,
     "metadata": {},
     "output_type": "execute_result"
    }
   ],
   "source": [
    "accuracy(cm)=(cm.tp+cm.tn)/(c   Resolving packagem.tp+cm.tn+cm.fp+cm.fn)\n",
    "specificity(cm)=cm.tn/(cm.tn+cm.fp)\n",
    "precision(cm)=cm.tp/(cm.tp+cm.fp)\n",
    "recall(cm)=cm.tp/(cm.tp+cm.fn)\n",
    "F1score(cm)=2*cm.tp/(2*cm.tp+cm.fp+cm.fn)"
   ]
  },
  {
   "cell_type": "markdown",
   "id": "9166c23a",
   "metadata": {},
   "source": [
    "## RANDOM FOREST"
   ]
  },
  {
   "cell_type": "code",
   "execution_count": 59,
   "id": "b3d89de4",
   "metadata": {},
   "outputs": [
    {
     "data": {
      "text/plain": [
       "Ensemble of Decision Trees\n",
       "Trees:      50\n",
       "Avg Leaves: 29.66\n",
       "Avg Depth:  5.0"
      ]
     },
     "execution_count": 59,
     "metadata": {},
     "output_type": "execute_result"
    }
   ],
   "source": [
    "#Random Forest\n",
    "n_subfeatures=2;n_trees=50;partial_sampling=0.7;max_depth=-1;min_samples_leaf=5;min_samples_split=4;min_purity_increase=2.0\n",
    "forest=build_forest(labels,features,n_subfeatures,n_trees,partial_sampling,min_samples_leaf,min_samples_split,min_purity_increase,rng=3)"
   ]
  },
  {
   "cell_type": "code",
   "execution_count": 60,
   "id": "b7fb8767",
   "metadata": {},
   "outputs": [
    {
     "name": "stdout",
     "output_type": "stream",
     "text": [
      "\n",
      "Fold 1\n",
      "Classes:  [\"no\", \"yes\"]\n",
      "Matrix:   "
     ]
    },
    {
     "data": {
      "text/plain": [
       "2×2 Matrix{Int64}:\n",
       " 145   263\n",
       "  83  3146"
      ]
     },
     "metadata": {},
     "output_type": "display_data"
    },
    {
     "name": "stdout",
     "output_type": "stream",
     "text": [
      "\n",
      "Accuracy: 0.9048666483365411\n",
      "Kappa:    0.40839101793817245\n",
      "\n",
      "Fold 2\n",
      "Classes:  [\"no\", \"yes\"]\n",
      "Matrix:   "
     ]
    },
    {
     "data": {
      "text/plain": [
       "2×2 Matrix{Int64}:\n",
       " 140   287\n",
       "  80  3130"
      ]
     },
     "metadata": {},
     "output_type": "display_data"
    },
    {
     "name": "stdout",
     "output_type": "stream",
     "text": [
      "\n",
      "Accuracy: 0.8990926587847127\n",
      "Kappa:    0.3835476494959724\n",
      "\n",
      "Fold 3\n",
      "Classes:  [\"no\", \"yes\"]\n",
      "Matrix:   "
     ]
    },
    {
     "data": {
      "text/plain": [
       "2×2 Matrix{Int64}:\n",
       " 147   288\n",
       "  84  3118"
      ]
     },
     "metadata": {},
     "output_type": "display_data"
    },
    {
     "name": "stdout",
     "output_type": "stream",
     "text": [
      "\n",
      "Accuracy: 0.8977178993676107\n",
      "Kappa:    0.39090575129925575\n",
      "\n",
      "Fold 4\n",
      "Classes:  [\"no\", \"yes\"]\n",
      "Matrix:   "
     ]
    },
    {
     "data": {
      "text/plain": [
       "2×2 Matrix{Int64}:\n",
       " 152   278\n",
       "  84  3123"
      ]
     },
     "metadata": {},
     "output_type": "display_data"
    },
    {
     "name": "stdout",
     "output_type": "stream",
     "text": [
      "\n",
      "Accuracy: 0.9004674182018146\n",
      "Kappa:    0.4067477679718031\n",
      "\n",
      "Fold 5\n",
      "Classes:  [\"no\", \"yes\"]\n",
      "Matrix:   "
     ]
    },
    {
     "data": {
      "text/plain": [
       "2×2 Matrix{Int64}:\n",
       " 141   270\n",
       "  74  3152"
      ]
     },
     "metadata": {},
     "output_type": "display_data"
    },
    {
     "name": "stdout",
     "output_type": "stream",
     "text": [
      "\n",
      "Accuracy: 0.9054165521033819\n",
      "Kappa:    0.4042338402462437\n",
      "\n",
      "Mean Accuracy: 0.9015122353588122\n"
     ]
    },
    {
     "data": {
      "text/plain": [
       "5-element Vector{Float64}:\n",
       " 0.9048666483365411\n",
       " 0.8990926587847127\n",
       " 0.8977178993676107\n",
       " 0.9004674182018146\n",
       " 0.9054165521033819"
      ]
     },
     "execution_count": 60,
     "metadata": {},
     "output_type": "execute_result"
    }
   ],
   "source": [
    "accuracy_score1=nfoldCV_forest(labels_test,features_test,5)"
   ]
  },
  {
   "cell_type": "code",
   "execution_count": 61,
   "id": "588ef3db",
   "metadata": {},
   "outputs": [
    {
     "name": "stdout",
     "output_type": "stream",
     "text": [
      "\n",
      "Fold 1\n",
      "Classes:  [\"no\", \"yes\"]\n",
      "Matrix:   "
     ]
    },
    {
     "data": {
      "text/plain": [
       "2×2 Matrix{Int64}:\n",
       " 157   275\n",
       "  92  3113"
      ]
     },
     "metadata": {},
     "output_type": "display_data"
    },
    {
     "name": "stdout",
     "output_type": "stream",
     "text": [
      "\n",
      "Accuracy: 0.8990926587847127\n",
      "Kappa:    0.4098235765660723\n",
      "\n",
      "Fold 2\n",
      "Classes:  [\"no\", \"yes\"]\n",
      "Matrix:   "
     ]
    },
    {
     "data": {
      "text/plain": [
       "2×2 Matrix{Int64}:\n",
       " 158   250\n",
       "  80  3149"
      ]
     },
     "metadata": {},
     "output_type": "display_data"
    },
    {
     "name": "stdout",
     "output_type": "stream",
     "text": [
      "\n",
      "Accuracy: 0.9092658784712675\n",
      "Kappa:    0.443133976153601\n",
      "\n",
      "Fold 3\n",
      "Classes:  [\"no\", \"yes\"]\n",
      "Matrix:   "
     ]
    },
    {
     "data": {
      "text/plain": [
       "2×2 Matrix{Int64}:\n",
       " 155   282\n",
       "  89  3111"
      ]
     },
     "metadata": {},
     "output_type": "display_data"
    },
    {
     "name": "stdout",
     "output_type": "stream",
     "text": [
      "\n",
      "Accuracy: 0.8979928512510311\n",
      "Kappa:    0.40388665369878474\n",
      "\n",
      "Fold 4\n",
      "Classes:  [\"no\", \"yes\"]\n",
      "Matrix:   "
     ]
    },
    {
     "data": {
      "text/plain": [
       "2×2 Matrix{Int64}:\n",
       " 144   283\n",
       " 105  3105"
      ]
     },
     "metadata": {},
     "output_type": "display_data"
    },
    {
     "name": "stdout",
     "output_type": "stream",
     "text": [
      "\n",
      "Accuracy: 0.8933186692328843\n",
      "Kappa:    0.3716930710438184\n",
      "\n",
      "Fold 5\n",
      "Classes:  [\"no\", \"yes\"]\n",
      "Matrix:   "
     ]
    },
    {
     "data": {
      "text/plain": [
       "2×2 Matrix{Int64}:\n",
       " 146   260\n",
       "  75  3156"
      ]
     },
     "metadata": {},
     "output_type": "display_data"
    },
    {
     "name": "stdout",
     "output_type": "stream",
     "text": [
      "\n",
      "Accuracy: 0.9078911190541655\n",
      "Kappa:    0.4200734240321151\n",
      "\n",
      "Mean Accuracy: 0.9015122353588122\n"
     ]
    },
    {
     "data": {
      "text/plain": [
       "5-element Vector{Float64}:\n",
       " 0.8990926587847127\n",
       " 0.9092658784712675\n",
       " 0.8979928512510311\n",
       " 0.8933186692328843\n",
       " 0.9078911190541655"
      ]
     },
     "execution_count": 61,
     "metadata": {},
     "output_type": "execute_result"
    }
   ],
   "source": [
    "n_subfeatures=2;n_trees=180;partial_sampling=0.7;max_depth=-1;min_samples_leaf=2;min_samples_split=1;min_purity_increase=2\n",
    "forest=build_forest(labels,features,n_subfeatures,n_trees,partial_sampling,min_samples_leaf,min_samples_split,min_purity_increase,rng=3)\n",
    "accuracy_score1=nfoldCV_forest(labels_test,features_test,5)"
   ]
  },
  {
   "cell_type": "markdown",
   "id": "1ef44ba5",
   "metadata": {},
   "source": [
    "    Her bir katın doğruluk oranları birbirine oldukça yakın görünmektedir. Bu, modelin genel olarak tutarlı bir performans sergilediğini gösterir.\n",
    "\n",
    "    Kappa değerleri biraz daha düşüktür. Kappa, rastgele sınıflandırmadan düzeltilmiş doğruluk ölçüsüdür. Kappa'nın düşük olması, modelin rastgele sınıflandırmadan daha iyi performans gösterdiği, ancak mükemmel bir uyum olmadığı anlamına gelir.\n",
    "\n",
    "     Ortalama doğruluk değeri oldukça yüksektir, bu da modelin genel olarak iyi bir performans gösterdiğini gösterir."
   ]
  },
  {
   "cell_type": "code",
   "execution_count": null,
   "id": "fa111f24",
   "metadata": {},
   "outputs": [],
   "source": []
  }
 ],
 "metadata": {
  "kernelspec": {
   "display_name": "Julia 1.9.3",
   "language": "julia",
   "name": "julia-1.9"
  },
  "language_info": {
   "file_extension": ".jl",
   "mimetype": "application/julia",
   "name": "julia",
   "version": "1.9.3"
  }
 },
 "nbformat": 4,
 "nbformat_minor": 5
}
